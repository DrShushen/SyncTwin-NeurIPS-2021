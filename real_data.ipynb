{
 "cells": [
  {
   "cell_type": "code",
   "execution_count": 1,
   "metadata": {},
   "outputs": [],
   "source": [
    "import pandas as pds\n",
    "import numpy as np"
   ]
  },
  {
   "cell_type": "markdown",
   "metadata": {},
   "source": [
    "# loading data"
   ]
  },
  {
   "cell_type": "code",
   "execution_count": 2,
   "metadata": {},
   "outputs": [],
   "source": [
    "df0_pre = pds.read_csv('real_data/df_control_pre_treatment.csv.gz')\n",
    "\n",
    "df0_post = pds.read_csv('real_data/df_control_post_treatment.csv.gz')\n",
    "\n",
    "df1_pre = pds.read_csv('real_data/df_treated_pre_treatment.csv.gz')\n",
    "\n",
    "df1_post = pds.read_csv('real_data/df_treated_post_treatment.csv.gz')\n",
    "\n",
    "df0 = pds.read_csv('real_data/df_control_cohort.csv.gz')\n",
    "\n",
    "df1 = pds.read_csv('real_data/df_treated_cohort.csv.gz')"
   ]
  },
  {
   "cell_type": "markdown",
   "metadata": {},
   "source": [
    "# summary cohort"
   ]
  },
  {
   "cell_type": "code",
   "execution_count": 10,
   "metadata": {},
   "outputs": [
    {
     "data": {
      "text/plain": [
       "Index(['patid', 'pracid', 'linkdate', 'region', 'gender', 'start_exp', 'd_yob',\n",
       "       'start_date', 'end_date', 'cvd_CPRD_ind', 'cvd_CPRD_date',\n",
       "       'cvd_CPRD_ind_ctv3', 'cvd_CPRD_date_ctv3', 'cprdmedcode', 'ctv3',\n",
       "       'cvd_CPRD_ind_old', 'cvd_CPRD_date_old', 'cvd_HES_date', 'cvd_HES_ind',\n",
       "       'cvd_ONS_date', 'cvd_ONS_ind', 'cvd_date', 'cvd_ind', 'bp_med_prscd',\n",
       "       'statins_prscd', 'statinuser', 'renal_ind', 'renal_date',\n",
       "       'rheumatoid_arthritis_ind', 'rheumatoid_arthritis_date',\n",
       "       'depression_ind', 'depression_date', 'SLE_ind', 'SLE_date',\n",
       "       'Migraine_ind', 'Migraine_date', 'Severe_mental_illness_ind',\n",
       "       'Severe_mental_illness_date', 'Dementia_ind', 'Dementia_date',\n",
       "       'Atrial_fibrillation_ind', 'Atrial_fibrillation_date', 'gen_ethnicity',\n",
       "       'townsend_20', 'death_date', 'death_ind', 'diab_ind',\n",
       "       'diab_type_uncertainty', 'diab_type', 'diab_date'],\n",
       "      dtype='object')"
      ]
     },
     "execution_count": 10,
     "metadata": {},
     "output_type": "execute_result"
    }
   ],
   "source": [
    "df0.columns"
   ]
  },
  {
   "cell_type": "code",
   "execution_count": 9,
   "metadata": {
    "scrolled": true
   },
   "outputs": [
    {
     "data": {
      "text/html": [
       "<div>\n",
       "<style scoped>\n",
       "    .dataframe tbody tr th:only-of-type {\n",
       "        vertical-align: middle;\n",
       "    }\n",
       "\n",
       "    .dataframe tbody tr th {\n",
       "        vertical-align: top;\n",
       "    }\n",
       "\n",
       "    .dataframe thead th {\n",
       "        text-align: right;\n",
       "    }\n",
       "</style>\n",
       "<table border=\"1\" class=\"dataframe\">\n",
       "  <thead>\n",
       "    <tr style=\"text-align: right;\">\n",
       "      <th></th>\n",
       "      <th>patid</th>\n",
       "      <th>pracid</th>\n",
       "      <th>linkdate</th>\n",
       "      <th>region</th>\n",
       "      <th>gender</th>\n",
       "      <th>start_exp</th>\n",
       "      <th>d_yob</th>\n",
       "      <th>start_date</th>\n",
       "      <th>end_date</th>\n",
       "      <th>cvd_CPRD_ind</th>\n",
       "      <th>...</th>\n",
       "      <th>Atrial_fibrillation_ind</th>\n",
       "      <th>Atrial_fibrillation_date</th>\n",
       "      <th>gen_ethnicity</th>\n",
       "      <th>townsend_20</th>\n",
       "      <th>death_date</th>\n",
       "      <th>death_ind</th>\n",
       "      <th>diab_ind</th>\n",
       "      <th>diab_type_uncertainty</th>\n",
       "      <th>diab_type</th>\n",
       "      <th>diab_date</th>\n",
       "    </tr>\n",
       "  </thead>\n",
       "  <tbody>\n",
       "    <tr>\n",
       "      <td>0</td>\n",
       "      <td>1127</td>\n",
       "      <td>127</td>\n",
       "      <td>17/06/2015</td>\n",
       "      <td>5</td>\n",
       "      <td>Male</td>\n",
       "      <td>2004-04-01</td>\n",
       "      <td>1937-07-01</td>\n",
       "      <td>2004-04-01</td>\n",
       "      <td>2015-07-17</td>\n",
       "      <td>NaN</td>\n",
       "      <td>...</td>\n",
       "      <td>NaN</td>\n",
       "      <td>NaN</td>\n",
       "      <td>NaN</td>\n",
       "      <td>6.0</td>\n",
       "      <td>NaN</td>\n",
       "      <td>0</td>\n",
       "      <td>0</td>\n",
       "      <td>NaN</td>\n",
       "      <td>NaN</td>\n",
       "      <td>NaN</td>\n",
       "    </tr>\n",
       "    <tr>\n",
       "      <td>1</td>\n",
       "      <td>1171</td>\n",
       "      <td>171</td>\n",
       "      <td>13/09/2014</td>\n",
       "      <td>2</td>\n",
       "      <td>Female</td>\n",
       "      <td>2004-04-01</td>\n",
       "      <td>1938-07-01</td>\n",
       "      <td>2004-04-01</td>\n",
       "      <td>2014-08-15</td>\n",
       "      <td>NaN</td>\n",
       "      <td>...</td>\n",
       "      <td>NaN</td>\n",
       "      <td>NaN</td>\n",
       "      <td>White</td>\n",
       "      <td>18.0</td>\n",
       "      <td>NaN</td>\n",
       "      <td>0</td>\n",
       "      <td>0</td>\n",
       "      <td>NaN</td>\n",
       "      <td>NaN</td>\n",
       "      <td>NaN</td>\n",
       "    </tr>\n",
       "    <tr>\n",
       "      <td>2</td>\n",
       "      <td>1209</td>\n",
       "      <td>209</td>\n",
       "      <td>03/12/2015</td>\n",
       "      <td>2</td>\n",
       "      <td>Male</td>\n",
       "      <td>2004-04-01</td>\n",
       "      <td>1947-07-01</td>\n",
       "      <td>2008-12-30</td>\n",
       "      <td>2015-12-15</td>\n",
       "      <td>NaN</td>\n",
       "      <td>...</td>\n",
       "      <td>NaN</td>\n",
       "      <td>NaN</td>\n",
       "      <td>White</td>\n",
       "      <td>1.0</td>\n",
       "      <td>NaN</td>\n",
       "      <td>0</td>\n",
       "      <td>0</td>\n",
       "      <td>NaN</td>\n",
       "      <td>NaN</td>\n",
       "      <td>NaN</td>\n",
       "    </tr>\n",
       "    <tr>\n",
       "      <td>3</td>\n",
       "      <td>1273</td>\n",
       "      <td>273</td>\n",
       "      <td>26/06/2014</td>\n",
       "      <td>5</td>\n",
       "      <td>Male</td>\n",
       "      <td>2004-04-01</td>\n",
       "      <td>1959-07-01</td>\n",
       "      <td>2004-04-01</td>\n",
       "      <td>2014-03-26</td>\n",
       "      <td>NaN</td>\n",
       "      <td>...</td>\n",
       "      <td>NaN</td>\n",
       "      <td>NaN</td>\n",
       "      <td>NaN</td>\n",
       "      <td>9.0</td>\n",
       "      <td>NaN</td>\n",
       "      <td>0</td>\n",
       "      <td>0</td>\n",
       "      <td>NaN</td>\n",
       "      <td>NaN</td>\n",
       "      <td>NaN</td>\n",
       "    </tr>\n",
       "    <tr>\n",
       "      <td>4</td>\n",
       "      <td>1345</td>\n",
       "      <td>345</td>\n",
       "      <td>08/05/2014</td>\n",
       "      <td>8</td>\n",
       "      <td>Female</td>\n",
       "      <td>2004-04-01</td>\n",
       "      <td>1947-07-01</td>\n",
       "      <td>2004-04-01</td>\n",
       "      <td>2012-10-24</td>\n",
       "      <td>NaN</td>\n",
       "      <td>...</td>\n",
       "      <td>NaN</td>\n",
       "      <td>NaN</td>\n",
       "      <td>White</td>\n",
       "      <td>10.0</td>\n",
       "      <td>2012-10-24</td>\n",
       "      <td>1</td>\n",
       "      <td>0</td>\n",
       "      <td>NaN</td>\n",
       "      <td>NaN</td>\n",
       "      <td>NaN</td>\n",
       "    </tr>\n",
       "  </tbody>\n",
       "</table>\n",
       "<p>5 rows × 50 columns</p>\n",
       "</div>"
      ],
      "text/plain": [
       "   patid  pracid    linkdate  region  gender   start_exp       d_yob  \\\n",
       "0   1127     127  17/06/2015       5    Male  2004-04-01  1937-07-01   \n",
       "1   1171     171  13/09/2014       2  Female  2004-04-01  1938-07-01   \n",
       "2   1209     209  03/12/2015       2    Male  2004-04-01  1947-07-01   \n",
       "3   1273     273  26/06/2014       5    Male  2004-04-01  1959-07-01   \n",
       "4   1345     345  08/05/2014       8  Female  2004-04-01  1947-07-01   \n",
       "\n",
       "   start_date    end_date  cvd_CPRD_ind  ... Atrial_fibrillation_ind  \\\n",
       "0  2004-04-01  2015-07-17           NaN  ...                     NaN   \n",
       "1  2004-04-01  2014-08-15           NaN  ...                     NaN   \n",
       "2  2008-12-30  2015-12-15           NaN  ...                     NaN   \n",
       "3  2004-04-01  2014-03-26           NaN  ...                     NaN   \n",
       "4  2004-04-01  2012-10-24           NaN  ...                     NaN   \n",
       "\n",
       "   Atrial_fibrillation_date  gen_ethnicity  townsend_20  death_date  \\\n",
       "0                       NaN            NaN          6.0         NaN   \n",
       "1                       NaN          White         18.0         NaN   \n",
       "2                       NaN          White          1.0         NaN   \n",
       "3                       NaN            NaN          9.0         NaN   \n",
       "4                       NaN          White         10.0  2012-10-24   \n",
       "\n",
       "   death_ind  diab_ind diab_type_uncertainty  diab_type diab_date  \n",
       "0          0         0                   NaN        NaN       NaN  \n",
       "1          0         0                   NaN        NaN       NaN  \n",
       "2          0         0                   NaN        NaN       NaN  \n",
       "3          0         0                   NaN        NaN       NaN  \n",
       "4          1         0                   NaN        NaN       NaN  \n",
       "\n",
       "[5 rows x 50 columns]"
      ]
     },
     "execution_count": 9,
     "metadata": {},
     "output_type": "execute_result"
    }
   ],
   "source": [
    "df0.head()"
   ]
  },
  {
   "cell_type": "markdown",
   "metadata": {},
   "source": [
    "### Count"
   ]
  },
  {
   "cell_type": "code",
   "execution_count": 55,
   "metadata": {},
   "outputs": [
    {
     "data": {
      "text/plain": [
       "336969"
      ]
     },
     "execution_count": 55,
     "metadata": {},
     "output_type": "execute_result"
    }
   ],
   "source": [
    "df0.shape[0]"
   ]
  },
  {
   "cell_type": "code",
   "execution_count": 56,
   "metadata": {},
   "outputs": [
    {
     "data": {
      "text/plain": [
       "96311"
      ]
     },
     "execution_count": 56,
     "metadata": {},
     "output_type": "execute_result"
    }
   ],
   "source": [
    "df1.shape[0]"
   ]
  },
  {
   "cell_type": "markdown",
   "metadata": {},
   "source": [
    "### Gender"
   ]
  },
  {
   "cell_type": "code",
   "execution_count": 13,
   "metadata": {},
   "outputs": [
    {
     "data": {
      "text/plain": [
       "Male      0.513092\n",
       "Female    0.486908\n",
       "Name: gender, dtype: float64"
      ]
     },
     "execution_count": 13,
     "metadata": {},
     "output_type": "execute_result"
    }
   ],
   "source": [
    "df0.gender.value_counts() / df0.shape[0]"
   ]
  },
  {
   "cell_type": "code",
   "execution_count": 14,
   "metadata": {
    "scrolled": true
   },
   "outputs": [
    {
     "data": {
      "text/plain": [
       "Male      0.592892\n",
       "Female    0.407108\n",
       "Name: gender, dtype: float64"
      ]
     },
     "execution_count": 14,
     "metadata": {},
     "output_type": "execute_result"
    }
   ],
   "source": [
    "df1.gender.value_counts() / df1.shape[0]"
   ]
  },
  {
   "cell_type": "markdown",
   "metadata": {},
   "source": [
    "### Age"
   ]
  },
  {
   "cell_type": "code",
   "execution_count": 26,
   "metadata": {},
   "outputs": [],
   "source": [
    "df0['age'] = 2004 - df0['d_yob'].str[:4].astype('double')\n",
    "df1['age'] = 2004 - df1['d_yob'].str[:4].astype('double')"
   ]
  },
  {
   "cell_type": "code",
   "execution_count": 27,
   "metadata": {},
   "outputs": [
    {
     "data": {
      "text/plain": [
       "60.0"
      ]
     },
     "execution_count": 27,
     "metadata": {},
     "output_type": "execute_result"
    }
   ],
   "source": [
    "df0['age'].median()"
   ]
  },
  {
   "cell_type": "code",
   "execution_count": 28,
   "metadata": {},
   "outputs": [
    {
     "data": {
      "text/plain": [
       "61.0"
      ]
     },
     "execution_count": 28,
     "metadata": {},
     "output_type": "execute_result"
    }
   ],
   "source": [
    "df1['age'].median()"
   ]
  },
  {
   "cell_type": "markdown",
   "metadata": {},
   "source": [
    "### Townsend index"
   ]
  },
  {
   "cell_type": "code",
   "execution_count": 29,
   "metadata": {},
   "outputs": [
    {
     "data": {
      "text/plain": [
       "8.0"
      ]
     },
     "execution_count": 29,
     "metadata": {},
     "output_type": "execute_result"
    }
   ],
   "source": [
    "df0['townsend_20'].median()"
   ]
  },
  {
   "cell_type": "code",
   "execution_count": 30,
   "metadata": {},
   "outputs": [
    {
     "data": {
      "text/plain": [
       "8.0"
      ]
     },
     "execution_count": 30,
     "metadata": {},
     "output_type": "execute_result"
    }
   ],
   "source": [
    "df1['townsend_20'].median()"
   ]
  },
  {
   "cell_type": "markdown",
   "metadata": {},
   "source": [
    "### Ethnicity - Not to include"
   ]
  },
  {
   "cell_type": "code",
   "execution_count": null,
   "metadata": {},
   "outputs": [],
   "source": [
    "df0['gen_ethnicity'].value_counts() / df0['gen_ethnicity'].shape[0]"
   ]
  },
  {
   "cell_type": "code",
   "execution_count": 34,
   "metadata": {},
   "outputs": [
    {
     "data": {
      "text/plain": [
       "White         0.555721\n",
       "Unknown       0.016862\n",
       "Indian        0.004475\n",
       "Other         0.003821\n",
       "Bl_Carib      0.002118\n",
       "Oth_Asian     0.002087\n",
       "Pakistani     0.001526\n",
       "Bl_Afric      0.001236\n",
       "Mixed         0.001204\n",
       "Chinese       0.000768\n",
       "Bl_Other      0.000592\n",
       "Bangladesi    0.000343\n",
       "Name: gen_ethnicity, dtype: float64"
      ]
     },
     "execution_count": 34,
     "metadata": {},
     "output_type": "execute_result"
    }
   ],
   "source": [
    "df1['gen_ethnicity'].value_counts() / df1['gen_ethnicity'].shape[0]"
   ]
  },
  {
   "cell_type": "code",
   "execution_count": 36,
   "metadata": {},
   "outputs": [
    {
     "data": {
      "text/plain": [
       "0.5028266695155934"
      ]
     },
     "execution_count": 36,
     "metadata": {},
     "output_type": "execute_result"
    }
   ],
   "source": [
    "df0['gen_ethnicity'].isna().sum() / df0['gen_ethnicity'].shape[0]"
   ]
  },
  {
   "cell_type": "code",
   "execution_count": 37,
   "metadata": {},
   "outputs": [
    {
     "data": {
      "text/plain": [
       "0.40924712649645417"
      ]
     },
     "execution_count": 37,
     "metadata": {},
     "output_type": "execute_result"
    }
   ],
   "source": [
    "df1['gen_ethnicity'].isna().sum() / df1['gen_ethnicity'].shape[0]"
   ]
  },
  {
   "cell_type": "markdown",
   "metadata": {},
   "source": [
    "### Comorbidity"
   ]
  },
  {
   "cell_type": "code",
   "execution_count": 38,
   "metadata": {},
   "outputs": [
    {
     "data": {
      "text/plain": [
       "1.0    0.090142\n",
       "Name: cvd_ind, dtype: float64"
      ]
     },
     "execution_count": 38,
     "metadata": {},
     "output_type": "execute_result"
    }
   ],
   "source": [
    "df0['cvd_ind'].value_counts() / df0.shape[0]"
   ]
  },
  {
   "cell_type": "code",
   "execution_count": 39,
   "metadata": {},
   "outputs": [
    {
     "data": {
      "text/plain": [
       "1.0    0.163325\n",
       "Name: cvd_ind, dtype: float64"
      ]
     },
     "execution_count": 39,
     "metadata": {},
     "output_type": "execute_result"
    }
   ],
   "source": [
    "df1['cvd_ind'].value_counts() / df1.shape[0]"
   ]
  },
  {
   "cell_type": "code",
   "execution_count": 40,
   "metadata": {},
   "outputs": [
    {
     "data": {
      "text/plain": [
       "1.0    0.12529\n",
       "Name: renal_ind, dtype: float64"
      ]
     },
     "execution_count": 40,
     "metadata": {},
     "output_type": "execute_result"
    }
   ],
   "source": [
    "df0['renal_ind'].value_counts() / df0.shape[0]"
   ]
  },
  {
   "cell_type": "code",
   "execution_count": 41,
   "metadata": {},
   "outputs": [
    {
     "data": {
      "text/plain": [
       "1.0    0.167426\n",
       "Name: renal_ind, dtype: float64"
      ]
     },
     "execution_count": 41,
     "metadata": {},
     "output_type": "execute_result"
    }
   ],
   "source": [
    "df1['renal_ind'].value_counts() / df1.shape[0]"
   ]
  },
  {
   "cell_type": "code",
   "execution_count": 46,
   "metadata": {},
   "outputs": [
    {
     "data": {
      "text/plain": [
       "1.0    0.035143\n",
       "Name: Dementia_ind, dtype: float64"
      ]
     },
     "execution_count": 46,
     "metadata": {},
     "output_type": "execute_result"
    }
   ],
   "source": [
    "df0['Dementia_ind'].value_counts() / df0.shape[0]"
   ]
  },
  {
   "cell_type": "code",
   "execution_count": 47,
   "metadata": {},
   "outputs": [
    {
     "data": {
      "text/plain": [
       "1.0    0.029031\n",
       "Name: Dementia_ind, dtype: float64"
      ]
     },
     "execution_count": 47,
     "metadata": {},
     "output_type": "execute_result"
    }
   ],
   "source": [
    "df1['Dementia_ind'].value_counts() / df1.shape[0]"
   ]
  },
  {
   "cell_type": "code",
   "execution_count": 51,
   "metadata": {},
   "outputs": [
    {
     "data": {
      "text/plain": [
       "1.0    0.219252\n",
       "Name: depression_ind, dtype: float64"
      ]
     },
     "execution_count": 51,
     "metadata": {},
     "output_type": "execute_result"
    }
   ],
   "source": [
    "df0['depression_ind'].value_counts() / df0.shape[0]"
   ]
  },
  {
   "cell_type": "code",
   "execution_count": 52,
   "metadata": {},
   "outputs": [
    {
     "data": {
      "text/plain": [
       "1.0    0.213288\n",
       "Name: depression_ind, dtype: float64"
      ]
     },
     "execution_count": 52,
     "metadata": {},
     "output_type": "execute_result"
    }
   ],
   "source": [
    "df1['depression_ind'].value_counts() / df1.shape[0]"
   ]
  },
  {
   "cell_type": "code",
   "execution_count": 53,
   "metadata": {},
   "outputs": [
    {
     "data": {
      "text/plain": [
       "1.0    0.042594\n",
       "Name: Atrial_fibrillation_ind, dtype: float64"
      ]
     },
     "execution_count": 53,
     "metadata": {},
     "output_type": "execute_result"
    }
   ],
   "source": [
    "df0['Atrial_fibrillation_ind'].value_counts() / df0.shape[0]"
   ]
  },
  {
   "cell_type": "code",
   "execution_count": 54,
   "metadata": {},
   "outputs": [
    {
     "data": {
      "text/plain": [
       "1.0    0.04092\n",
       "Name: Atrial_fibrillation_ind, dtype: float64"
      ]
     },
     "execution_count": 54,
     "metadata": {},
     "output_type": "execute_result"
    }
   ],
   "source": [
    "df1['Atrial_fibrillation_ind'].value_counts() / df1.shape[0]"
   ]
  },
  {
   "cell_type": "code",
   "execution_count": null,
   "metadata": {},
   "outputs": [],
   "source": []
  },
  {
   "cell_type": "code",
   "execution_count": null,
   "metadata": {},
   "outputs": [],
   "source": []
  }
 ],
 "metadata": {
  "kernelspec": {
   "display_name": "Python 3",
   "language": "python",
   "name": "python3"
  },
  "language_info": {
   "codemirror_mode": {
    "name": "ipython",
    "version": 3
   },
   "file_extension": ".py",
   "mimetype": "text/x-python",
   "name": "python",
   "nbconvert_exporter": "python",
   "pygments_lexer": "ipython3",
   "version": "3.7.4"
  }
 },
 "nbformat": 4,
 "nbformat_minor": 2
}

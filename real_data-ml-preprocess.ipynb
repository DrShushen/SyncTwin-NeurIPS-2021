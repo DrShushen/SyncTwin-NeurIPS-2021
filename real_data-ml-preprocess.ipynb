{
 "cells": [
  {
   "cell_type": "code",
   "execution_count": 142,
   "metadata": {},
   "outputs": [],
   "source": [
    "import pandas as pds\n",
    "import numpy as np"
   ]
  },
  {
   "cell_type": "markdown",
   "metadata": {},
   "source": [
    "# loading data"
   ]
  },
  {
   "cell_type": "code",
   "execution_count": 143,
   "metadata": {},
   "outputs": [],
   "source": [
    "df0_pre = pds.read_csv('real_data/df_control_pre_treatment.csv.gz')\n",
    "\n",
    "df0_post = pds.read_csv('real_data/df_control_post_treatment.csv.gz')\n",
    "\n",
    "df1_pre = pds.read_csv('real_data/df_treated_pre_treatment.csv.gz')\n",
    "\n",
    "df1_post = pds.read_csv('real_data/df_treated_post_treatment.csv.gz')\n",
    "\n",
    "df0 = pds.read_csv('real_data/df_control_cohort.csv.gz')\n",
    "\n",
    "df1 = pds.read_csv('real_data/df_treated_cohort.csv.gz')"
   ]
  },
  {
   "cell_type": "markdown",
   "metadata": {},
   "source": [
    "# Outcome tensor"
   ]
  },
  {
   "cell_type": "code",
   "execution_count": 144,
   "metadata": {},
   "outputs": [
    {
     "data": {
      "text/html": [
       "<div>\n",
       "<style scoped>\n",
       "    .dataframe tbody tr th:only-of-type {\n",
       "        vertical-align: middle;\n",
       "    }\n",
       "\n",
       "    .dataframe tbody tr th {\n",
       "        vertical-align: top;\n",
       "    }\n",
       "\n",
       "    .dataframe thead th {\n",
       "        text-align: right;\n",
       "    }\n",
       "</style>\n",
       "<table border=\"1\" class=\"dataframe\">\n",
       "  <thead>\n",
       "    <tr style=\"text-align: right;\">\n",
       "      <th></th>\n",
       "      <th>patid</th>\n",
       "      <th>statins_prscd</th>\n",
       "      <th>exp_date</th>\n",
       "      <th>exposure</th>\n",
       "      <th>original</th>\n",
       "      <th>ts</th>\n",
       "    </tr>\n",
       "  </thead>\n",
       "  <tbody>\n",
       "    <tr>\n",
       "      <td>0</td>\n",
       "      <td>1025</td>\n",
       "      <td>2009-04-20</td>\n",
       "      <td>2009-05-27</td>\n",
       "      <td>ldl</td>\n",
       "      <td>2.2</td>\n",
       "      <td>0.101370</td>\n",
       "    </tr>\n",
       "    <tr>\n",
       "      <td>1</td>\n",
       "      <td>1025</td>\n",
       "      <td>2009-04-20</td>\n",
       "      <td>2011-03-01</td>\n",
       "      <td>ldl</td>\n",
       "      <td>2.6</td>\n",
       "      <td>1.863014</td>\n",
       "    </tr>\n",
       "    <tr>\n",
       "      <td>2</td>\n",
       "      <td>1025</td>\n",
       "      <td>2009-04-20</td>\n",
       "      <td>2012-03-29</td>\n",
       "      <td>ldl</td>\n",
       "      <td>2.3</td>\n",
       "      <td>2.942466</td>\n",
       "    </tr>\n",
       "    <tr>\n",
       "      <td>3</td>\n",
       "      <td>1025</td>\n",
       "      <td>2009-04-20</td>\n",
       "      <td>2013-01-16</td>\n",
       "      <td>ldl</td>\n",
       "      <td>2.6</td>\n",
       "      <td>3.745205</td>\n",
       "    </tr>\n",
       "    <tr>\n",
       "      <td>4</td>\n",
       "      <td>1025</td>\n",
       "      <td>2009-04-20</td>\n",
       "      <td>2014-09-08</td>\n",
       "      <td>ldl</td>\n",
       "      <td>1.9</td>\n",
       "      <td>5.389041</td>\n",
       "    </tr>\n",
       "  </tbody>\n",
       "</table>\n",
       "</div>"
      ],
      "text/plain": [
       "   patid statins_prscd    exp_date exposure  original        ts\n",
       "0   1025    2009-04-20  2009-05-27      ldl       2.2  0.101370\n",
       "1   1025    2009-04-20  2011-03-01      ldl       2.6  1.863014\n",
       "2   1025    2009-04-20  2012-03-29      ldl       2.3  2.942466\n",
       "3   1025    2009-04-20  2013-01-16      ldl       2.6  3.745205\n",
       "4   1025    2009-04-20  2014-09-08      ldl       1.9  5.389041"
      ]
     },
     "execution_count": 144,
     "metadata": {},
     "output_type": "execute_result"
    }
   ],
   "source": [
    "df1_post.head()"
   ]
  },
  {
   "cell_type": "code",
   "execution_count": 145,
   "metadata": {},
   "outputs": [],
   "source": [
    "df1_post['enroll_date'] = df1_post['statins_prscd']"
   ]
  },
  {
   "cell_type": "code",
   "execution_count": 146,
   "metadata": {},
   "outputs": [],
   "source": [
    "def get_post_treatment(df, n_year=3):\n",
    "    df = df.copy()\n",
    "    df.exp_date = pds.to_datetime(df.exp_date)\n",
    "    df.enroll_date = pds.to_datetime(df.enroll_date)\n",
    "    # three year follow up\n",
    "\n",
    "    df['time_since_enroll'] = df.exp_date - df.enroll_date\n",
    "    df_3yr = df[df.time_since_enroll.astype('timedelta64[D]').astype('int') < 365 * n_year]\n",
    "    df_3yr_out = df_3yr.groupby('patid').agg({'original': 'mean'}).reset_index()\n",
    "    return df_3yr_out"
   ]
  },
  {
   "cell_type": "code",
   "execution_count": 188,
   "metadata": {},
   "outputs": [],
   "source": [
    "df1_outcome = get_post_treatment(df1_post, 3)\n",
    "df0_outcome = get_post_treatment(df0_post, 3)"
   ]
  },
  {
   "cell_type": "code",
   "execution_count": 189,
   "metadata": {},
   "outputs": [
    {
     "data": {
      "text/html": [
       "<div>\n",
       "<style scoped>\n",
       "    .dataframe tbody tr th:only-of-type {\n",
       "        vertical-align: middle;\n",
       "    }\n",
       "\n",
       "    .dataframe tbody tr th {\n",
       "        vertical-align: top;\n",
       "    }\n",
       "\n",
       "    .dataframe thead th {\n",
       "        text-align: right;\n",
       "    }\n",
       "</style>\n",
       "<table border=\"1\" class=\"dataframe\">\n",
       "  <thead>\n",
       "    <tr style=\"text-align: right;\">\n",
       "      <th></th>\n",
       "      <th>patid</th>\n",
       "      <th>original</th>\n",
       "    </tr>\n",
       "  </thead>\n",
       "  <tbody>\n",
       "    <tr>\n",
       "      <td>0</td>\n",
       "      <td>1025</td>\n",
       "      <td>2.366667</td>\n",
       "    </tr>\n",
       "    <tr>\n",
       "      <td>1</td>\n",
       "      <td>1128</td>\n",
       "      <td>2.300000</td>\n",
       "    </tr>\n",
       "    <tr>\n",
       "      <td>2</td>\n",
       "      <td>1433</td>\n",
       "      <td>2.625000</td>\n",
       "    </tr>\n",
       "    <tr>\n",
       "      <td>3</td>\n",
       "      <td>1595</td>\n",
       "      <td>1.870000</td>\n",
       "    </tr>\n",
       "    <tr>\n",
       "      <td>4</td>\n",
       "      <td>1633</td>\n",
       "      <td>2.850000</td>\n",
       "    </tr>\n",
       "  </tbody>\n",
       "</table>\n",
       "</div>"
      ],
      "text/plain": [
       "   patid  original\n",
       "0   1025  2.366667\n",
       "1   1128  2.300000\n",
       "2   1433  2.625000\n",
       "3   1595  1.870000\n",
       "4   1633  2.850000"
      ]
     },
     "execution_count": 189,
     "metadata": {},
     "output_type": "execute_result"
    }
   ],
   "source": [
    "df1_outcome.head()"
   ]
  },
  {
   "cell_type": "code",
   "execution_count": 192,
   "metadata": {},
   "outputs": [],
   "source": [
    "Y0 = df0_outcome.original.values[:, None, None]\n",
    "Y1 = df1_outcome.original.values[:, None, None]"
   ]
  },
  {
   "cell_type": "code",
   "execution_count": 193,
   "metadata": {},
   "outputs": [
    {
     "data": {
      "text/plain": [
       "(151260, 1, 1)"
      ]
     },
     "execution_count": 193,
     "metadata": {},
     "output_type": "execute_result"
    }
   ],
   "source": [
    "Y0.shape"
   ]
  },
  {
   "cell_type": "markdown",
   "metadata": {},
   "source": [
    "# Pre-treatment tensor"
   ]
  },
  {
   "cell_type": "code",
   "execution_count": 157,
   "metadata": {},
   "outputs": [],
   "source": [
    "df1_pre_with_outcome = df1_pre[df1_pre.patid.isin(df1_outcome.patid.values)]"
   ]
  },
  {
   "cell_type": "code",
   "execution_count": 161,
   "metadata": {},
   "outputs": [],
   "source": [
    "df0_pre_with_outcome = df0_pre[df0_pre.patid.isin(df0_outcome.patid.values)]"
   ]
  },
  {
   "cell_type": "code",
   "execution_count": 162,
   "metadata": {},
   "outputs": [
    {
     "data": {
      "text/plain": [
       "(1435557, 14)"
      ]
     },
     "execution_count": 162,
     "metadata": {},
     "output_type": "execute_result"
    }
   ],
   "source": [
    "df0_pre_with_outcome.shape"
   ]
  },
  {
   "cell_type": "code",
   "execution_count": 163,
   "metadata": {},
   "outputs": [
    {
     "data": {
      "text/html": [
       "<div>\n",
       "<style scoped>\n",
       "    .dataframe tbody tr th:only-of-type {\n",
       "        vertical-align: middle;\n",
       "    }\n",
       "\n",
       "    .dataframe tbody tr th {\n",
       "        vertical-align: top;\n",
       "    }\n",
       "\n",
       "    .dataframe thead th {\n",
       "        text-align: right;\n",
       "    }\n",
       "</style>\n",
       "<table border=\"1\" class=\"dataframe\">\n",
       "  <thead>\n",
       "    <tr style=\"text-align: right;\">\n",
       "      <th></th>\n",
       "      <th>patid</th>\n",
       "      <th>statins_prscd</th>\n",
       "      <th>exp_date</th>\n",
       "      <th>ts</th>\n",
       "      <th>bmi</th>\n",
       "      <th>creatinine</th>\n",
       "      <th>dbp</th>\n",
       "      <th>hdl</th>\n",
       "      <th>ldl</th>\n",
       "      <th>pulse</th>\n",
       "      <th>sbp</th>\n",
       "      <th>smokbin</th>\n",
       "      <th>tchol</th>\n",
       "      <th>triglycerides</th>\n",
       "    </tr>\n",
       "  </thead>\n",
       "  <tbody>\n",
       "    <tr>\n",
       "      <td>0</td>\n",
       "      <td>1025</td>\n",
       "      <td>2009-04-20</td>\n",
       "      <td>2006-03-17</td>\n",
       "      <td>-3.095890</td>\n",
       "      <td>0.816792</td>\n",
       "      <td>-0.760384</td>\n",
       "      <td>2.340395</td>\n",
       "      <td>-1.092967</td>\n",
       "      <td>1.461241</td>\n",
       "      <td>0.206718</td>\n",
       "      <td>1.678120</td>\n",
       "      <td>NaN</td>\n",
       "      <td>1.469227</td>\n",
       "      <td>2.031118</td>\n",
       "    </tr>\n",
       "    <tr>\n",
       "      <td>1</td>\n",
       "      <td>1025</td>\n",
       "      <td>2009-04-20</td>\n",
       "      <td>2006-03-24</td>\n",
       "      <td>-3.076712</td>\n",
       "      <td>NaN</td>\n",
       "      <td>NaN</td>\n",
       "      <td>1.462977</td>\n",
       "      <td>NaN</td>\n",
       "      <td>NaN</td>\n",
       "      <td>NaN</td>\n",
       "      <td>0.503195</td>\n",
       "      <td>NaN</td>\n",
       "      <td>NaN</td>\n",
       "      <td>NaN</td>\n",
       "    </tr>\n",
       "    <tr>\n",
       "      <td>2</td>\n",
       "      <td>1025</td>\n",
       "      <td>2009-04-20</td>\n",
       "      <td>2006-04-27</td>\n",
       "      <td>-2.983562</td>\n",
       "      <td>NaN</td>\n",
       "      <td>NaN</td>\n",
       "      <td>1.199751</td>\n",
       "      <td>NaN</td>\n",
       "      <td>NaN</td>\n",
       "      <td>NaN</td>\n",
       "      <td>0.758613</td>\n",
       "      <td>NaN</td>\n",
       "      <td>NaN</td>\n",
       "      <td>NaN</td>\n",
       "    </tr>\n",
       "    <tr>\n",
       "      <td>3</td>\n",
       "      <td>1025</td>\n",
       "      <td>2009-04-20</td>\n",
       "      <td>2006-05-25</td>\n",
       "      <td>-2.906849</td>\n",
       "      <td>NaN</td>\n",
       "      <td>NaN</td>\n",
       "      <td>1.375235</td>\n",
       "      <td>NaN</td>\n",
       "      <td>NaN</td>\n",
       "      <td>NaN</td>\n",
       "      <td>0.860781</td>\n",
       "      <td>NaN</td>\n",
       "      <td>NaN</td>\n",
       "      <td>NaN</td>\n",
       "    </tr>\n",
       "    <tr>\n",
       "      <td>4</td>\n",
       "      <td>1025</td>\n",
       "      <td>2009-04-20</td>\n",
       "      <td>2006-07-05</td>\n",
       "      <td>-2.794521</td>\n",
       "      <td>NaN</td>\n",
       "      <td>NaN</td>\n",
       "      <td>1.901686</td>\n",
       "      <td>NaN</td>\n",
       "      <td>NaN</td>\n",
       "      <td>-0.776326</td>\n",
       "      <td>0.758613</td>\n",
       "      <td>NaN</td>\n",
       "      <td>NaN</td>\n",
       "      <td>NaN</td>\n",
       "    </tr>\n",
       "  </tbody>\n",
       "</table>\n",
       "</div>"
      ],
      "text/plain": [
       "   patid statins_prscd    exp_date        ts       bmi  creatinine       dbp  \\\n",
       "0   1025    2009-04-20  2006-03-17 -3.095890  0.816792   -0.760384  2.340395   \n",
       "1   1025    2009-04-20  2006-03-24 -3.076712       NaN         NaN  1.462977   \n",
       "2   1025    2009-04-20  2006-04-27 -2.983562       NaN         NaN  1.199751   \n",
       "3   1025    2009-04-20  2006-05-25 -2.906849       NaN         NaN  1.375235   \n",
       "4   1025    2009-04-20  2006-07-05 -2.794521       NaN         NaN  1.901686   \n",
       "\n",
       "        hdl       ldl     pulse       sbp  smokbin     tchol  triglycerides  \n",
       "0 -1.092967  1.461241  0.206718  1.678120      NaN  1.469227       2.031118  \n",
       "1       NaN       NaN       NaN  0.503195      NaN       NaN            NaN  \n",
       "2       NaN       NaN       NaN  0.758613      NaN       NaN            NaN  \n",
       "3       NaN       NaN       NaN  0.860781      NaN       NaN            NaN  \n",
       "4       NaN       NaN -0.776326  0.758613      NaN       NaN            NaN  "
      ]
     },
     "execution_count": 163,
     "metadata": {},
     "output_type": "execute_result"
    }
   ],
   "source": [
    "df1_pre_with_outcome.head()"
   ]
  },
  {
   "cell_type": "code",
   "execution_count": 164,
   "metadata": {},
   "outputs": [],
   "source": [
    "def padd(arr, n, d):\n",
    "    if len(arr.shape) == 1:\n",
    "        lack = n - arr.shape[0]\n",
    "        ones = np.ones_like(arr)\n",
    "        pad = np.zeros(lack)\n",
    "        arr_new = np.concatenate([arr, pad])\n",
    "        mask_new = np.concatenate([ones, pad])\n",
    "    else:\n",
    "        lack = n - arr.shape[0]\n",
    "        ones = np.ones_like(arr)\n",
    "        pad = np.zeros((lack, d))\n",
    "        arr_new = np.concatenate([arr, pad], axis=0)\n",
    "        mask_new = np.concatenate([ones, pad], axis=0)\n",
    "    return arr_new, mask_new"
   ]
  },
  {
   "cell_type": "code",
   "execution_count": 165,
   "metadata": {},
   "outputs": [],
   "source": [
    "def process_pre_treatment(df):\n",
    "    df_grouped = df.groupby('patid')\n",
    "    \n",
    "    patid_list = []\n",
    "    ts_list = []\n",
    "    mat_list = []\n",
    "    ts_mask_list = []\n",
    "    mat_mask_list = []\n",
    "\n",
    "\n",
    "    for group_name, s in df_grouped:\n",
    "        ts = s.ts.values\n",
    "        ts_padded, ts_mask = padd(ts, 20, 10)\n",
    "\n",
    "        mat = s[['bmi','creatinine','dbp','hdl','ldl','pulse','sbp','smokbin','tchol','triglycerides']].values\n",
    "        mat_padded, mat_mask = padd(mat, 20, 10)\n",
    "        mat_nan = 1 - np.isnan(mat_padded).astype('float')\n",
    "        mat_mask = (mat_mask+mat_nan == 2).astype('float')\n",
    "        mat_padded[np.isnan(mat_padded)] = 0\n",
    "\n",
    "        patid_list.append(group_name)\n",
    "        ts_list.append(ts_padded)\n",
    "        mat_list.append(mat_padded)\n",
    "        ts_mask_list.append(ts_mask)\n",
    "        mat_mask_list.append(mat_mask)\n",
    "\n",
    "    ts_arr = np.stack(ts_list, axis=0)\n",
    "    val_arr = np.stack(mat_list, axis=0)\n",
    "    ts_mask_arr = np.stack(ts_mask_list, axis=0)\n",
    "    val_mask_arr = np.stack(mat_mask_list, axis=0)\n",
    "    return patid_list, val_arr, val_mask_arr, ts_arr, ts_mask_arr"
   ]
  },
  {
   "cell_type": "code",
   "execution_count": 166,
   "metadata": {},
   "outputs": [],
   "source": [
    "patid_list1, val_arr1, val_mask_arr1, ts_arr1, ts_mask_arr1 = process_pre_treatment(df1_pre_with_outcome)\n",
    "\n",
    "patid_list0, val_arr0, val_mask_arr0, ts_arr0, ts_mask_arr0 = process_pre_treatment(df0_pre_with_outcome)\n",
    "\n",
    "patid0 = np.array(patid_list0)\n",
    "patid1 = np.array(patid_list1)\n"
   ]
  },
  {
   "cell_type": "code",
   "execution_count": 71,
   "metadata": {},
   "outputs": [],
   "source": [
    "np.save('real_data/val_arr1', val_arr1)\n",
    "np.save('real_data/val_mask_arr1', val_mask_arr1)\n",
    "np.save('real_data/ts_arr1', ts_arr1)\n",
    "np.save('real_data/ts_mask_arr1', ts_mask_arr1)\n",
    "np.save('real_data/patid1', patid1)\n",
    "\n",
    "np.save('real_data/val_arr0', val_arr1)\n",
    "np.save('real_data/val_mask_arr0', val_mask_arr1)\n",
    "np.save('real_data/ts_arr0', ts_arr1)\n",
    "np.save('real_data/ts_mask_arr0', ts_mask_arr1)\n",
    "np.save('real_data/patid0', patid0)\n"
   ]
  },
  {
   "cell_type": "code",
   "execution_count": 194,
   "metadata": {},
   "outputs": [],
   "source": [
    "np.save('real_data/Y0', Y0)\n",
    "np.save('real_data/Y1', Y1)\n"
   ]
  },
  {
   "cell_type": "markdown",
   "metadata": {},
   "source": [
    "### Checking pre and post-treatment data matches on patid"
   ]
  },
  {
   "cell_type": "code",
   "execution_count": 186,
   "metadata": {},
   "outputs": [
    {
     "data": {
      "text/plain": [
       "0"
      ]
     },
     "execution_count": 186,
     "metadata": {},
     "output_type": "execute_result"
    }
   ],
   "source": [
    "np.sum(df1_outcome.patid.values != np.array(patid_list1))"
   ]
  },
  {
   "cell_type": "code",
   "execution_count": 187,
   "metadata": {},
   "outputs": [
    {
     "data": {
      "text/plain": [
       "0"
      ]
     },
     "execution_count": 187,
     "metadata": {},
     "output_type": "execute_result"
    }
   ],
   "source": [
    "np.sum(df0_outcome.patid.values != np.array(patid_list0))"
   ]
  },
  {
   "cell_type": "code",
   "execution_count": 195,
   "metadata": {},
   "outputs": [
    {
     "data": {
      "text/plain": [
       "(151260, 20, 10)"
      ]
     },
     "execution_count": 195,
     "metadata": {},
     "output_type": "execute_result"
    }
   ],
   "source": [
    "val_arr0.shape"
   ]
  },
  {
   "cell_type": "code",
   "execution_count": null,
   "metadata": {},
   "outputs": [],
   "source": []
  },
  {
   "cell_type": "code",
   "execution_count": null,
   "metadata": {},
   "outputs": [],
   "source": []
  },
  {
   "cell_type": "code",
   "execution_count": null,
   "metadata": {},
   "outputs": [],
   "source": []
  },
  {
   "cell_type": "code",
   "execution_count": 177,
   "metadata": {},
   "outputs": [],
   "source": [
    "df1_outcome_with_cov = df1_outcome[df1_outcome.patid.isin(patid_list1)]\n",
    "df0_outcome_with_cov = df0_outcome[df0_outcome.patid.isin(patid_list0)]"
   ]
  },
  {
   "cell_type": "code",
   "execution_count": 178,
   "metadata": {},
   "outputs": [
    {
     "data": {
      "text/plain": [
       "(67736, 2)"
      ]
     },
     "execution_count": 178,
     "metadata": {},
     "output_type": "execute_result"
    }
   ],
   "source": [
    "df1_outcome_with_cov.shape"
   ]
  },
  {
   "cell_type": "code",
   "execution_count": 181,
   "metadata": {},
   "outputs": [
    {
     "data": {
      "text/plain": [
       "(151260, 2)"
      ]
     },
     "execution_count": 181,
     "metadata": {},
     "output_type": "execute_result"
    }
   ],
   "source": [
    "df0_outcome_with_cov.shape"
   ]
  },
  {
   "cell_type": "code",
   "execution_count": 179,
   "metadata": {},
   "outputs": [
    {
     "data": {
      "text/plain": [
       "(67736, 2)"
      ]
     },
     "execution_count": 179,
     "metadata": {},
     "output_type": "execute_result"
    }
   ],
   "source": [
    "df1_outcome.shape"
   ]
  },
  {
   "cell_type": "code",
   "execution_count": 180,
   "metadata": {
    "scrolled": false
   },
   "outputs": [
    {
     "data": {
      "text/plain": [
       "(151260, 2)"
      ]
     },
     "execution_count": 180,
     "metadata": {},
     "output_type": "execute_result"
    }
   ],
   "source": [
    "df0_outcome.shape"
   ]
  },
  {
   "cell_type": "code",
   "execution_count": null,
   "metadata": {},
   "outputs": [],
   "source": []
  },
  {
   "cell_type": "code",
   "execution_count": null,
   "metadata": {},
   "outputs": [],
   "source": []
  },
  {
   "cell_type": "code",
   "execution_count": 175,
   "metadata": {},
   "outputs": [
    {
     "data": {
      "text/plain": [
       "67736"
      ]
     },
     "execution_count": 175,
     "metadata": {},
     "output_type": "execute_result"
    }
   ],
   "source": [
    "len(patid_list1)"
   ]
  },
  {
   "cell_type": "code",
   "execution_count": 176,
   "metadata": {},
   "outputs": [
    {
     "data": {
      "text/plain": [
       "151260"
      ]
     },
     "execution_count": 176,
     "metadata": {},
     "output_type": "execute_result"
    }
   ],
   "source": [
    "len(patid_list0)"
   ]
  },
  {
   "cell_type": "code",
   "execution_count": 167,
   "metadata": {},
   "outputs": [
    {
     "data": {
      "text/plain": [
       "151260"
      ]
     },
     "execution_count": 167,
     "metadata": {},
     "output_type": "execute_result"
    }
   ],
   "source": [
    "len(df0_pre_with_outcome['patid'].unique())"
   ]
  },
  {
   "cell_type": "code",
   "execution_count": 168,
   "metadata": {},
   "outputs": [
    {
     "data": {
      "text/plain": [
       "67736"
      ]
     },
     "execution_count": 168,
     "metadata": {},
     "output_type": "execute_result"
    }
   ],
   "source": [
    "len(df1_pre_with_outcome['patid'].unique())"
   ]
  },
  {
   "cell_type": "code",
   "execution_count": null,
   "metadata": {},
   "outputs": [],
   "source": []
  },
  {
   "cell_type": "code",
   "execution_count": 169,
   "metadata": {},
   "outputs": [
    {
     "data": {
      "text/plain": [
       "191537"
      ]
     },
     "execution_count": 169,
     "metadata": {},
     "output_type": "execute_result"
    }
   ],
   "source": [
    "len(df0_post['patid'].unique())"
   ]
  },
  {
   "cell_type": "code",
   "execution_count": 170,
   "metadata": {
    "scrolled": true
   },
   "outputs": [
    {
     "data": {
      "text/plain": [
       "74119"
      ]
     },
     "execution_count": 170,
     "metadata": {},
     "output_type": "execute_result"
    }
   ],
   "source": [
    "len(df1_post['patid'].unique())"
   ]
  },
  {
   "cell_type": "code",
   "execution_count": null,
   "metadata": {},
   "outputs": [],
   "source": []
  },
  {
   "cell_type": "code",
   "execution_count": null,
   "metadata": {},
   "outputs": [],
   "source": []
  },
  {
   "cell_type": "code",
   "execution_count": null,
   "metadata": {},
   "outputs": [],
   "source": []
  },
  {
   "cell_type": "code",
   "execution_count": null,
   "metadata": {},
   "outputs": [],
   "source": []
  },
  {
   "cell_type": "code",
   "execution_count": 133,
   "metadata": {},
   "outputs": [
    {
     "data": {
      "text/plain": [
       "(462556, 6)"
      ]
     },
     "execution_count": 133,
     "metadata": {},
     "output_type": "execute_result"
    }
   ],
   "source": [
    "df0_post.shape"
   ]
  },
  {
   "cell_type": "code",
   "execution_count": 134,
   "metadata": {},
   "outputs": [
    {
     "data": {
      "text/plain": [
       "(552782, 7)"
      ]
     },
     "execution_count": 134,
     "metadata": {},
     "output_type": "execute_result"
    }
   ],
   "source": [
    "df1_post.shape"
   ]
  },
  {
   "cell_type": "code",
   "execution_count": null,
   "metadata": {},
   "outputs": [],
   "source": []
  },
  {
   "cell_type": "code",
   "execution_count": null,
   "metadata": {},
   "outputs": [],
   "source": []
  },
  {
   "cell_type": "code",
   "execution_count": null,
   "metadata": {},
   "outputs": [],
   "source": []
  },
  {
   "cell_type": "code",
   "execution_count": null,
   "metadata": {},
   "outputs": [],
   "source": []
  },
  {
   "cell_type": "code",
   "execution_count": null,
   "metadata": {},
   "outputs": [],
   "source": []
  },
  {
   "cell_type": "code",
   "execution_count": 76,
   "metadata": {},
   "outputs": [],
   "source": [
    "df = df0_post.copy()"
   ]
  },
  {
   "cell_type": "code",
   "execution_count": 118,
   "metadata": {},
   "outputs": [],
   "source": []
  },
  {
   "cell_type": "code",
   "execution_count": 77,
   "metadata": {},
   "outputs": [],
   "source": [
    "df.exp_date = pds.to_datetime(df.exp_date)\n",
    "df.enroll_date = pds.to_datetime(df.enroll_date)"
   ]
  },
  {
   "cell_type": "code",
   "execution_count": 90,
   "metadata": {},
   "outputs": [],
   "source": [
    "# three year follow up\n",
    "\n",
    "df['time_since_enroll'] = df.exp_date - df.enroll_date"
   ]
  },
  {
   "cell_type": "code",
   "execution_count": 107,
   "metadata": {},
   "outputs": [],
   "source": [
    "df_3yr = df[df.time_since_enroll.astype('timedelta64[D]').astype('int') < 365 * 3]"
   ]
  },
  {
   "cell_type": "code",
   "execution_count": 111,
   "metadata": {},
   "outputs": [],
   "source": [
    "df_3yr_out = df_3yr.groupby('patid').agg({'original': 'mean'}).reset_index()"
   ]
  },
  {
   "cell_type": "code",
   "execution_count": 113,
   "metadata": {},
   "outputs": [
    {
     "data": {
      "text/plain": [
       "(151260, 2)"
      ]
     },
     "execution_count": 113,
     "metadata": {},
     "output_type": "execute_result"
    }
   ],
   "source": [
    "df_3yr_out.shape"
   ]
  },
  {
   "cell_type": "code",
   "execution_count": 117,
   "metadata": {},
   "outputs": [],
   "source": [
    "# df_3yr_plus = df[df.time_since_enroll.astype('timedelta64[D]').astype('int') >= 365 * 3]\n",
    "# df_3yr_out_plus = df_3yr_plus.groupby('patid').agg({'original': 'mean'}).reset_index()\n",
    "# df_3yr_out_plus.shape"
   ]
  },
  {
   "cell_type": "code",
   "execution_count": null,
   "metadata": {},
   "outputs": [],
   "source": []
  },
  {
   "cell_type": "code",
   "execution_count": null,
   "metadata": {},
   "outputs": [],
   "source": []
  },
  {
   "cell_type": "code",
   "execution_count": null,
   "metadata": {},
   "outputs": [],
   "source": []
  },
  {
   "cell_type": "code",
   "execution_count": null,
   "metadata": {},
   "outputs": [],
   "source": []
  },
  {
   "cell_type": "code",
   "execution_count": null,
   "metadata": {},
   "outputs": [],
   "source": []
  },
  {
   "cell_type": "code",
   "execution_count": null,
   "metadata": {},
   "outputs": [],
   "source": []
  },
  {
   "cell_type": "code",
   "execution_count": 62,
   "metadata": {},
   "outputs": [
    {
     "data": {
      "text/plain": [
       "0"
      ]
     },
     "execution_count": 62,
     "metadata": {},
     "output_type": "execute_result"
    }
   ],
   "source": [
    "np.sum(np.isnan(ts_mask_arr1))"
   ]
  },
  {
   "cell_type": "code",
   "execution_count": 53,
   "metadata": {},
   "outputs": [
    {
     "data": {
      "text/plain": [
       "(96311, 20, 10)"
      ]
     },
     "execution_count": 53,
     "metadata": {},
     "output_type": "execute_result"
    }
   ],
   "source": [
    "val_arr1.shape"
   ]
  },
  {
   "cell_type": "code",
   "execution_count": 54,
   "metadata": {},
   "outputs": [
    {
     "data": {
      "text/plain": [
       "96311"
      ]
     },
     "execution_count": 54,
     "metadata": {},
     "output_type": "execute_result"
    }
   ],
   "source": [
    "len(patid_list1)"
   ]
  },
  {
   "cell_type": "code",
   "execution_count": 55,
   "metadata": {},
   "outputs": [
    {
     "data": {
      "text/plain": [
       "(96311, 20, 10)"
      ]
     },
     "execution_count": 55,
     "metadata": {},
     "output_type": "execute_result"
    }
   ],
   "source": [
    "val_mask_arr1.shape"
   ]
  },
  {
   "cell_type": "code",
   "execution_count": 56,
   "metadata": {},
   "outputs": [
    {
     "data": {
      "text/plain": [
       "(96311, 20)"
      ]
     },
     "execution_count": 56,
     "metadata": {},
     "output_type": "execute_result"
    }
   ],
   "source": [
    "ts_arr1.shape"
   ]
  },
  {
   "cell_type": "code",
   "execution_count": 57,
   "metadata": {},
   "outputs": [
    {
     "data": {
      "text/plain": [
       "(96311, 20)"
      ]
     },
     "execution_count": 57,
     "metadata": {},
     "output_type": "execute_result"
    }
   ],
   "source": [
    "ts_mask_arr1.shape"
   ]
  },
  {
   "cell_type": "code",
   "execution_count": null,
   "metadata": {},
   "outputs": [],
   "source": []
  },
  {
   "cell_type": "code",
   "execution_count": null,
   "metadata": {},
   "outputs": [],
   "source": []
  },
  {
   "cell_type": "code",
   "execution_count": null,
   "metadata": {},
   "outputs": [],
   "source": []
  },
  {
   "cell_type": "code",
   "execution_count": null,
   "metadata": {},
   "outputs": [],
   "source": []
  },
  {
   "cell_type": "code",
   "execution_count": 5,
   "metadata": {},
   "outputs": [
    {
     "data": {
      "text/html": [
       "<div>\n",
       "<style scoped>\n",
       "    .dataframe tbody tr th:only-of-type {\n",
       "        vertical-align: middle;\n",
       "    }\n",
       "\n",
       "    .dataframe tbody tr th {\n",
       "        vertical-align: top;\n",
       "    }\n",
       "\n",
       "    .dataframe thead th {\n",
       "        text-align: right;\n",
       "    }\n",
       "</style>\n",
       "<table border=\"1\" class=\"dataframe\">\n",
       "  <thead>\n",
       "    <tr style=\"text-align: right;\">\n",
       "      <th></th>\n",
       "      <th>patid</th>\n",
       "      <th>statins_prscd</th>\n",
       "      <th>exp_date</th>\n",
       "      <th>ts</th>\n",
       "      <th>bmi</th>\n",
       "      <th>creatinine</th>\n",
       "      <th>dbp</th>\n",
       "      <th>hdl</th>\n",
       "      <th>ldl</th>\n",
       "      <th>pulse</th>\n",
       "      <th>sbp</th>\n",
       "      <th>smokbin</th>\n",
       "      <th>tchol</th>\n",
       "      <th>triglycerides</th>\n",
       "    </tr>\n",
       "  </thead>\n",
       "  <tbody>\n",
       "    <tr>\n",
       "      <td>0</td>\n",
       "      <td>1025</td>\n",
       "      <td>2009-04-20</td>\n",
       "      <td>2006-03-17</td>\n",
       "      <td>-3.095890</td>\n",
       "      <td>0.816792</td>\n",
       "      <td>-0.760384</td>\n",
       "      <td>2.340395</td>\n",
       "      <td>-1.092967</td>\n",
       "      <td>1.461241</td>\n",
       "      <td>0.206718</td>\n",
       "      <td>1.678120</td>\n",
       "      <td>NaN</td>\n",
       "      <td>1.469227</td>\n",
       "      <td>2.031118</td>\n",
       "    </tr>\n",
       "    <tr>\n",
       "      <td>1</td>\n",
       "      <td>1025</td>\n",
       "      <td>2009-04-20</td>\n",
       "      <td>2006-03-24</td>\n",
       "      <td>-3.076712</td>\n",
       "      <td>NaN</td>\n",
       "      <td>NaN</td>\n",
       "      <td>1.462977</td>\n",
       "      <td>NaN</td>\n",
       "      <td>NaN</td>\n",
       "      <td>NaN</td>\n",
       "      <td>0.503195</td>\n",
       "      <td>NaN</td>\n",
       "      <td>NaN</td>\n",
       "      <td>NaN</td>\n",
       "    </tr>\n",
       "    <tr>\n",
       "      <td>2</td>\n",
       "      <td>1025</td>\n",
       "      <td>2009-04-20</td>\n",
       "      <td>2006-04-27</td>\n",
       "      <td>-2.983562</td>\n",
       "      <td>NaN</td>\n",
       "      <td>NaN</td>\n",
       "      <td>1.199751</td>\n",
       "      <td>NaN</td>\n",
       "      <td>NaN</td>\n",
       "      <td>NaN</td>\n",
       "      <td>0.758613</td>\n",
       "      <td>NaN</td>\n",
       "      <td>NaN</td>\n",
       "      <td>NaN</td>\n",
       "    </tr>\n",
       "    <tr>\n",
       "      <td>3</td>\n",
       "      <td>1025</td>\n",
       "      <td>2009-04-20</td>\n",
       "      <td>2006-05-25</td>\n",
       "      <td>-2.906849</td>\n",
       "      <td>NaN</td>\n",
       "      <td>NaN</td>\n",
       "      <td>1.375235</td>\n",
       "      <td>NaN</td>\n",
       "      <td>NaN</td>\n",
       "      <td>NaN</td>\n",
       "      <td>0.860781</td>\n",
       "      <td>NaN</td>\n",
       "      <td>NaN</td>\n",
       "      <td>NaN</td>\n",
       "    </tr>\n",
       "    <tr>\n",
       "      <td>4</td>\n",
       "      <td>1025</td>\n",
       "      <td>2009-04-20</td>\n",
       "      <td>2006-07-05</td>\n",
       "      <td>-2.794521</td>\n",
       "      <td>NaN</td>\n",
       "      <td>NaN</td>\n",
       "      <td>1.901686</td>\n",
       "      <td>NaN</td>\n",
       "      <td>NaN</td>\n",
       "      <td>-0.776326</td>\n",
       "      <td>0.758613</td>\n",
       "      <td>NaN</td>\n",
       "      <td>NaN</td>\n",
       "      <td>NaN</td>\n",
       "    </tr>\n",
       "  </tbody>\n",
       "</table>\n",
       "</div>"
      ],
      "text/plain": [
       "   patid statins_prscd    exp_date        ts       bmi  creatinine       dbp  \\\n",
       "0   1025    2009-04-20  2006-03-17 -3.095890  0.816792   -0.760384  2.340395   \n",
       "1   1025    2009-04-20  2006-03-24 -3.076712       NaN         NaN  1.462977   \n",
       "2   1025    2009-04-20  2006-04-27 -2.983562       NaN         NaN  1.199751   \n",
       "3   1025    2009-04-20  2006-05-25 -2.906849       NaN         NaN  1.375235   \n",
       "4   1025    2009-04-20  2006-07-05 -2.794521       NaN         NaN  1.901686   \n",
       "\n",
       "        hdl       ldl     pulse       sbp  smokbin     tchol  triglycerides  \n",
       "0 -1.092967  1.461241  0.206718  1.678120      NaN  1.469227       2.031118  \n",
       "1       NaN       NaN       NaN  0.503195      NaN       NaN            NaN  \n",
       "2       NaN       NaN       NaN  0.758613      NaN       NaN            NaN  \n",
       "3       NaN       NaN       NaN  0.860781      NaN       NaN            NaN  \n",
       "4       NaN       NaN -0.776326  0.758613      NaN       NaN            NaN  "
      ]
     },
     "execution_count": 5,
     "metadata": {},
     "output_type": "execute_result"
    }
   ],
   "source": [
    "s = df1_pre[df1_pre.patid == 1025]\n",
    "s.head()"
   ]
  },
  {
   "cell_type": "code",
   "execution_count": 6,
   "metadata": {},
   "outputs": [],
   "source": [
    "ts = s.ts.values\n",
    "ts_padded, ts_mask = padd(ts, 20, 10)"
   ]
  },
  {
   "cell_type": "code",
   "execution_count": 22,
   "metadata": {},
   "outputs": [
    {
     "data": {
      "text/plain": [
       "array([-3.09589041, -3.07671233, -2.98356164, -2.90684932, -2.79452055,\n",
       "       -2.3369863 , -2.04657534, -1.97260274, -0.28767123, -0.22465753,\n",
       "       -0.18630137, -0.07123288,  0.        ,  0.        ,  0.        ,\n",
       "        0.        ,  0.        ,  0.        ,  0.        ,  0.        ])"
      ]
     },
     "execution_count": 22,
     "metadata": {},
     "output_type": "execute_result"
    }
   ],
   "source": [
    "ts_padded"
   ]
  },
  {
   "cell_type": "code",
   "execution_count": 23,
   "metadata": {},
   "outputs": [
    {
     "data": {
      "text/plain": [
       "array([1., 1., 1., 1., 1., 1., 1., 1., 1., 1., 1., 1., 1., 0., 0., 0., 0.,\n",
       "       0., 0., 0.])"
      ]
     },
     "execution_count": 23,
     "metadata": {},
     "output_type": "execute_result"
    }
   ],
   "source": [
    "ts_mask"
   ]
  },
  {
   "cell_type": "code",
   "execution_count": 24,
   "metadata": {},
   "outputs": [],
   "source": [
    "mat = s[['bmi','creatinine','dbp','hdl','ldl','pulse','sbp','smokbin','tchol','triglycerides']].values\n",
    "\n",
    "mat_padded, mat_mask = padd(mat, 20, 10)\n",
    "\n",
    "mat_nan = 1 - np.isnan(mat_padded).astype('float')\n",
    "\n",
    "mat_mask = (mat_mask+mat_nan == 2).astype('float')"
   ]
  },
  {
   "cell_type": "code",
   "execution_count": 35,
   "metadata": {},
   "outputs": [
    {
     "data": {
      "text/plain": [
       "array([[1., 1., 1., 1., 1., 1., 1., 0., 1., 1.],\n",
       "       [0., 0., 1., 0., 0., 0., 1., 0., 0., 0.],\n",
       "       [0., 0., 1., 0., 0., 0., 1., 0., 0., 0.],\n",
       "       [0., 0., 1., 0., 0., 0., 1., 0., 0., 0.],\n",
       "       [0., 0., 1., 0., 0., 1., 1., 0., 0., 0.],\n",
       "       [0., 0., 1., 0., 0., 0., 1., 0., 0., 0.],\n",
       "       [0., 0., 1., 0., 0., 0., 1., 0., 0., 0.],\n",
       "       [1., 0., 1., 0., 0., 0., 1., 0., 0., 0.],\n",
       "       [0., 0., 1., 0., 0., 1., 1., 0., 0., 0.],\n",
       "       [1., 1., 1., 1., 1., 0., 1., 0., 1., 1.],\n",
       "       [0., 0., 1., 0., 0., 1., 1., 0., 0., 0.],\n",
       "       [0., 0., 1., 0., 0., 1., 1., 0., 0., 0.],\n",
       "       [0., 0., 1., 0., 0., 1., 1., 0., 0., 0.],\n",
       "       [0., 0., 0., 0., 0., 0., 0., 0., 0., 0.],\n",
       "       [0., 0., 0., 0., 0., 0., 0., 0., 0., 0.],\n",
       "       [0., 0., 0., 0., 0., 0., 0., 0., 0., 0.],\n",
       "       [0., 0., 0., 0., 0., 0., 0., 0., 0., 0.],\n",
       "       [0., 0., 0., 0., 0., 0., 0., 0., 0., 0.],\n",
       "       [0., 0., 0., 0., 0., 0., 0., 0., 0., 0.],\n",
       "       [0., 0., 0., 0., 0., 0., 0., 0., 0., 0.]])"
      ]
     },
     "execution_count": 35,
     "metadata": {},
     "output_type": "execute_result"
    }
   ],
   "source": [
    "mat_mask"
   ]
  },
  {
   "cell_type": "code",
   "execution_count": 37,
   "metadata": {},
   "outputs": [],
   "source": [
    "mat_padded[np.isnan(mat_padded)] = 0"
   ]
  },
  {
   "cell_type": "code",
   "execution_count": null,
   "metadata": {},
   "outputs": [],
   "source": []
  },
  {
   "cell_type": "code",
   "execution_count": null,
   "metadata": {},
   "outputs": [],
   "source": []
  },
  {
   "cell_type": "code",
   "execution_count": null,
   "metadata": {},
   "outputs": [],
   "source": []
  },
  {
   "cell_type": "code",
   "execution_count": 40,
   "metadata": {},
   "outputs": [],
   "source": [
    "df = df1_pre.head(5000)\n",
    "\n"
   ]
  },
  {
   "cell_type": "code",
   "execution_count": 50,
   "metadata": {},
   "outputs": [],
   "source": []
  },
  {
   "cell_type": "code",
   "execution_count": 46,
   "metadata": {},
   "outputs": [],
   "source": []
  },
  {
   "cell_type": "code",
   "execution_count": 45,
   "metadata": {},
   "outputs": [
    {
     "data": {
      "text/plain": [
       "(482, 20)"
      ]
     },
     "execution_count": 45,
     "metadata": {},
     "output_type": "execute_result"
    }
   ],
   "source": [
    "ts_arr.shape"
   ]
  },
  {
   "cell_type": "code",
   "execution_count": 47,
   "metadata": {},
   "outputs": [
    {
     "data": {
      "text/plain": [
       "(482, 20, 10)"
      ]
     },
     "execution_count": 47,
     "metadata": {},
     "output_type": "execute_result"
    }
   ],
   "source": [
    "val_arr.shape"
   ]
  },
  {
   "cell_type": "code",
   "execution_count": 48,
   "metadata": {},
   "outputs": [
    {
     "data": {
      "text/plain": [
       "(482, 20)"
      ]
     },
     "execution_count": 48,
     "metadata": {},
     "output_type": "execute_result"
    }
   ],
   "source": [
    "ts_mask_arr.shape"
   ]
  },
  {
   "cell_type": "code",
   "execution_count": 49,
   "metadata": {},
   "outputs": [
    {
     "data": {
      "text/plain": [
       "(482, 20, 10)"
      ]
     },
     "execution_count": 49,
     "metadata": {},
     "output_type": "execute_result"
    }
   ],
   "source": [
    "val_mask_arr.shape"
   ]
  },
  {
   "cell_type": "code",
   "execution_count": null,
   "metadata": {},
   "outputs": [],
   "source": []
  }
 ],
 "metadata": {
  "kernelspec": {
   "display_name": "Python 3",
   "language": "python",
   "name": "python3"
  },
  "language_info": {
   "codemirror_mode": {
    "name": "ipython",
    "version": 3
   },
   "file_extension": ".py",
   "mimetype": "text/x-python",
   "name": "python",
   "nbconvert_exporter": "python",
   "pygments_lexer": "ipython3",
   "version": "3.7.4"
  }
 },
 "nbformat": 4,
 "nbformat_minor": 2
}
